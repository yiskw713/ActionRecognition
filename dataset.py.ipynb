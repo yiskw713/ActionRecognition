{
 "cells": [
  {
   "cell_type": "code",
   "execution_count": 5,
   "metadata": {},
   "outputs": [],
   "source": [
    "import torch\n",
    "import numpy as np\n",
    "import pandas as pd\n",
    "from torch.utils.data import Dataset\n",
    "from torchvision import transforms\n",
    "from PIL import Image"
   ]
  },
  {
   "cell_type": "code",
   "execution_count": 68,
   "metadata": {
    "collapsed": true
   },
   "outputs": [
    {
     "data": {
      "text/plain": [
       "'\\nconfig.yaml\\n\\ntrain_csv: ./train.csv\\ntest_csv: ./test.csv\\n\\nn_classes: 400\\nbatch_size: 2\\ninput_frames: 16\\nheight: 224\\nwidth: 224\\nmax_epoch: 100\\nlearning_rate: 0.001\\npoly_power: 0.9\\n\\nresult_path:\\n'"
      ]
     },
     "execution_count": 68,
     "metadata": {},
     "output_type": "execute_result"
    }
   ],
   "source": [
    "'''\n",
    "config.yaml\n",
    "\n",
    "train_csv: ./train.csv\n",
    "test_csv: ./test.csv\n",
    "\n",
    "n_classes: 400\n",
    "batch_size: 2\n",
    "input_frames: 16\n",
    "height: 224\n",
    "width: 224\n",
    "max_epoch: 100\n",
    "learning_rate: 0.001\n",
    "poly_power: 0.9\n",
    "\n",
    "result_path:\n",
    "'''"
   ]
  },
  {
   "cell_type": "code",
   "execution_count": null,
   "metadata": {},
   "outputs": [],
   "source": [
    "def video_loader(video_path, n_frames, input_frames):\n",
    "    start_frame = np.random.randint(1, n_frames + 1 - input_frames)\n",
    "    print(start_frame)\n",
    "    clips = []\n",
    "    for i in range(start_frame, start_frame + input_frames):\n",
    "        img_path = video_path + 'image_{:05d}.jpg'.format(i)\n",
    "        img = Image.open(img_path)\n",
    "        clips.append(img)\n",
    "    print(len(clips))\n",
    "    return clips"
   ]
  },
  {
   "cell_type": "code",
   "execution_count": null,
   "metadata": {},
   "outputs": [],
   "source": [
    "class Kinetics(Dataset):\n",
    "    \"\"\"\n",
    "    Dataset class for Kinetics\n",
    "    \"\"\"\n",
    "    \n",
    "    def __init__(self, config, transform=None, mode = 'training'):\n",
    "        super.__init__()\n",
    "        \n",
    "        self.config =config\n",
    "        \n",
    "        if mode = 'test':\n",
    "            self.df = pd.read_csv(self.config.test_csv)\n",
    "        else:\n",
    "            self.df = pd.read_csv(self.config.train_csv)\n",
    "        \n",
    "        self.transform = transform\n",
    "        \n",
    "    def __len__(self):\n",
    "        return len(self.df)\n",
    "    \n",
    "    def __getitem__(self, idx):\n",
    "        video_path = df.iloc[idx, 0]\n",
    "        cls = df.iloc[idx, 1]\n",
    "        cls_id = df.iloc[idx, 2]\n",
    "        n_frames = df.iloc[idx, 3]\n",
    "        \n",
    "        clips = video_loader(video_path, n_frames, self.config.input_frames)\n",
    "        for i in range(len(clips)):\n",
    "            clips[i] = self.transform(clips[i])\n",
    "            \n",
    "        sample = {\n",
    "            'clips': clips,\n",
    "            'class': cls\n",
    "        }\n",
    "        "
   ]
  }
 ],
 "metadata": {
  "kernelspec": {
   "display_name": "Python 3",
   "language": "python",
   "name": "python3"
  },
  "language_info": {
   "codemirror_mode": {
    "name": "ipython",
    "version": 3
   },
   "file_extension": ".py",
   "mimetype": "text/x-python",
   "name": "python",
   "nbconvert_exporter": "python",
   "pygments_lexer": "ipython3",
   "version": "3.6.5"
  }
 },
 "nbformat": 4,
 "nbformat_minor": 2
}
